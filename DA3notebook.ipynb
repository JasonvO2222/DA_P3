{
 "cells": [
  {
   "cell_type": "markdown",
   "metadata": {},
   "source": [
    "===TASK 1: Data Visualization==="
   ]
  },
  {
   "cell_type": "code",
   "execution_count": null,
   "metadata": {},
   "outputs": [],
   "source": [
    "# Task 1.1 - Explore the dataset similarly to the first assignment, so you have a good understanding of \n",
    "# its content and features. Come up with an interesting one-minute story about the dataset.\n",
    "\n",
    "\n",
    "# Task 1.2 - Create a visualization, which shows the characteristics of tuples of class 1, compared to \n",
    "# tuples of class 0."
   ]
  },
  {
   "cell_type": "markdown",
   "metadata": {},
   "source": [
    "===TASK 2: Preprocessing===\n",
    "\n",
    "Think about the shape of the data that is used as input for classification algorithms. \n",
    "Use preprocessing techniques, which you deem necessary, to apply to this dataset."
   ]
  },
  {
   "cell_type": "code",
   "execution_count": null,
   "metadata": {},
   "outputs": [],
   "source": []
  },
  {
   "cell_type": "markdown",
   "metadata": {},
   "source": [
    "===TASK 3: Creating a Train Set and a Test Set==="
   ]
  },
  {
   "cell_type": "code",
   "execution_count": null,
   "metadata": {},
   "outputs": [],
   "source": [
    "# Task 3.1 - Look for a function in the Sklearn documentation which can create train-test splits. Use \n",
    "# this function to create two train-test splits of different sizes. Throughout the entire PA keep \n",
    "# comparing the different splits and the impact they have on different tasks."
   ]
  },
  {
   "cell_type": "markdown",
   "metadata": {},
   "source": [
    "===TASK 4: Classification Algorithm===\n",
    "\n",
    "For the next questions, use the created training sets of both splits from question 3.1. \n",
    "Use the complementary test sets to predict the new cases. \n",
    "\n",
    "Predict a few cases that you pick at and compare the predicted labels with the actual \n",
    "labels. You will conduct a thorough evaluation in the task 5. Show that you have \n",
    "developed a feeling for the classification results."
   ]
  },
  {
   "cell_type": "code",
   "execution_count": null,
   "metadata": {},
   "outputs": [],
   "source": [
    "# Task 4.1 - Manually implement a KNN classifier. You are not allowed to use any predefined functions \n",
    "# or libraries, except for auxiliary functionalities, such as the square root function of the Math \n",
    "# library. \n",
    " \n",
    "# Task 4.2 - Use Sklearn's Naive Bayes Classifier. Predict a few new cases and compare the predicted \n",
    "# labels with the actual labels. \n",
    " \n",
    "# Task 4.3 - Use Sklearn's Support Vector Classifier. Predict a few new cases and compare the \n",
    "# predicted labels with the actual labels.\n",
    " \n",
    "# Task 4.4 - Use Sklearn's Multilayer Perceptron (Neural Network) Classifier. Predict a few new cases \n",
    "# and compare the predicted labels with the actual labels."
   ]
  },
  {
   "cell_type": "markdown",
   "metadata": {},
   "source": [
    "===TASK 5: Evaluation of Classification Methods===\n",
    "\n",
    "For the next questions, use the already fitted/learned models from the previous task \n",
    "for the splits you have created in Task 3."
   ]
  },
  {
   "cell_type": "code",
   "execution_count": null,
   "metadata": {},
   "outputs": [],
   "source": [
    "# Task 5.1 - Manually implement a confusion matrix to evaluate the results of the classification \n",
    "# models. You are not allowed to use any predefined functions or libraries.\n",
    " \n",
    "# Task 5.2 - Use Sklearn's classification report function to evaluate the results of the classification \n",
    "# models.\n",
    " \n",
    "# Task 5.3 - Use Sklearn's fbeta score function to evaluate the results of the classification models."
   ]
  },
  {
   "cell_type": "markdown",
   "metadata": {},
   "source": [
    "===TASK 6: Cross-Validation==="
   ]
  },
  {
   "cell_type": "code",
   "execution_count": null,
   "metadata": {},
   "outputs": [],
   "source": [
    "# Task 6.1 - Apply Sklearn's K-Fold cross-validation on both splits of one of the classification \n",
    "# algorithms to optimize at least one parameter of the algorithm you have chosen. Use scores \n",
    "# from task 5 when evaluating each fold. Afterwards, refit the classifier, this time with the best \n",
    "# parameter setting. Render plots showing the evaluation scores for each fold. Also render \n",
    "# plot(s) showing the difference between not using cross-validation and using cross-validation \n",
    "# for this algorithm with both splits."
   ]
  }
 ],
 "metadata": {
  "language_info": {
   "name": "python"
  }
 },
 "nbformat": 4,
 "nbformat_minor": 2
}
